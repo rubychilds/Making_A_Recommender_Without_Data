{
 "cells": [
  {
   "cell_type": "markdown",
   "metadata": {
    "slideshow": {
     "slide_type": "slide"
    }
   },
   "source": [
    "# Making good recommendations is hard"
   ]
  },
  {
   "cell_type": "raw",
   "metadata": {
    "slideshow": {
     "slide_type": "subslide"
    }
   },
   "source": [
    "## Location\n",
    "\n"
   ]
  },
  {
   "cell_type": "raw",
   "metadata": {
    "slideshow": {
     "slide_type": "fragment"
    }
   },
   "source": [
    "```python\n",
    "{\n",
    "   \"data\":[\n",
    "      {\n",
    "         \"type\": \"photo\",\n",
    "         \"orientation\": \"up\",\n",
    "         \"mirrored\": False,\n",
    "         \"location\": {\n",
    "            \"latitude\": -0.14533333,\n",
    "            \"longitude\": 50.82383333\n",
    "         },\n",
    "         \"timestamp\": 1323430996000\n",
    "      }\n",
    "   ]\n",
    "}\n",
    "```"
   ]
  },
  {
   "cell_type": "code",
   "execution_count": 12,
   "metadata": {
    "collapsed": true,
    "slideshow": {
     "slide_type": "notes"
    }
   },
   "outputs": [],
   "source": [
    "## Location data are embedded in your photos.\n",
    "## Also in the places you were tagged in facebook."
   ]
  },
  {
   "cell_type": "markdown",
   "metadata": {
    "slideshow": {
     "slide_type": "subslide"
    }
   },
   "source": [
    "```python\n",
    "locations = [(-0.14, 50.82), (0.2, 52.94), ...]\n",
    "```"
   ]
  },
  {
   "cell_type": "raw",
   "metadata": {
    "slideshow": {
     "slide_type": "fragment"
    }
   },
   "source": [
    "```python\n",
    "def places_api(lat, lon):\n",
    "    # Wrapper function on top of\n",
    "    # - Google maps\n",
    "    # - Foursquare api\n",
    "    return place\n",
    "    \n",
    "places = [places_api(lat, lon) for (lat, lon) in locations]\n",
    "```"
   ]
  },
  {
   "cell_type": "code",
   "execution_count": 13,
   "metadata": {
    "collapsed": true,
    "slideshow": {
     "slide_type": "notes"
    }
   },
   "outputs": [],
   "source": [
    "# can someone guess what is the most common place in yout location data?"
   ]
  },
  {
   "cell_type": "markdown",
   "metadata": {
    "collapsed": true,
    "slideshow": {
     "slide_type": "subslide"
    }
   },
   "source": [
    "<div class=\"container\">\n",
    "<div class=\"row\">\n",
    "    <img src=\"home.png\" alt=\"Drawing\" style=\"width: 250px;\"/> \n",
    "</div>\n",
    "</div>"
   ]
  },
  {
   "cell_type": "code",
   "execution_count": 14,
   "metadata": {
    "collapsed": false,
    "slideshow": {
     "slide_type": "notes"
    }
   },
   "outputs": [],
   "source": [
    "## what we ended up doing was to hardcode the most popular place our users have been\n",
    "## the next step would be to create a script to detect a new popular location we have not included\n",
    "## we would then use the places api to make us suggestions about potential places around that location\n",
    "## with the goal at some day this whole process to be completely automated"
   ]
  },
  {
   "cell_type": "raw",
   "metadata": {
    "slideshow": {
     "slide_type": "slide"
    }
   },
   "source": [
    "```python\n",
    "popular_places = {\n",
    "    'hyde_park': [\n",
    "        (51.504365, -0.152372),\n",
    "        (51.512739, -0.159349),\n",
    "        (51.509734, -0.188102),\n",
    "        (51.502134, -0.184240)\n",
    "    ],\n",
    "    'shoreditch': [\n",
    "        (51.535698, -0.114082),\n",
    "        (51.518503, -0.073828),\n",
    "        (51.531159, -0.073098),\n",
    "        (51.526807, -0.106786)\n",
    "    ]\n",
    "}\n",
    "\n",
    "def places_lookup(lat, lon):\n",
    "    for name, coordinates in popular_places:\n",
    "        if inside(lat, lon, coordinates):\n",
    "            return name\n",
    "    return None\n",
    "\n",
    "places = [places_lookup(lat, lon) for (lat, lon) in locations]\n",
    "```"
   ]
  },
  {
   "cell_type": "markdown",
   "metadata": {
    "collapsed": true,
    "slideshow": {
     "slide_type": "subslide"
    }
   },
   "source": [
    "## Music"
   ]
  },
  {
   "cell_type": "code",
   "execution_count": 15,
   "metadata": {
    "collapsed": true,
    "slideshow": {
     "slide_type": "notes"
    }
   },
   "outputs": [],
   "source": [
    "## music from your iphone library\n",
    "## integration from spotify as a next step"
   ]
  },
  {
   "cell_type": "raw",
   "metadata": {
    "slideshow": {
     "slide_type": "subslide"
    }
   },
   "source": [
    "```python\n",
    "{\n",
    "   \"data\": [\n",
    "      {\n",
    "         \"skipCount\": 0,\n",
    "         \"playCount\": 0,\n",
    "         \"title\": \"The innocent song\",\n",
    "         \"albumTitle\": \"Songs of Innocence\",\n",
    "         \"genre\": \"Rock\",\n",
    "         \"artist\": \"U2\",\n",
    "         \"lastPlayedDate\": 1419328173273,\n",
    "         \"albumArtist\": \"U2\"\n",
    "      }\n",
    "   ]\n",
    "}\n",
    "```"
   ]
  },
  {
   "cell_type": "raw",
   "metadata": {
    "slideshow": {
     "slide_type": "slide"
    }
   },
   "source": [
    "```python\n",
    "\"playCount\": 0\n",
    "```"
   ]
  },
  {
   "cell_type": "code",
   "execution_count": 16,
   "metadata": {
    "collapsed": true,
    "slideshow": {
     "slide_type": "notes"
    }
   },
   "outputs": [],
   "source": [
    "## most of the songs have not been played or at lease we have no information of being played"
   ]
  },
  {
   "cell_type": "raw",
   "metadata": {
    "slideshow": {
     "slide_type": "slide"
    }
   },
   "source": [
    "```python\n",
    "\"lastPlayedDate\": 1419328173273\n",
    "```"
   ]
  },
  {
   "cell_type": "code",
   "execution_count": 17,
   "metadata": {
    "collapsed": true,
    "slideshow": {
     "slide_type": "notes"
    }
   },
   "outputs": [],
   "source": [
    "## from those that have been played, most have not been played recently. music tastes change"
   ]
  },
  {
   "cell_type": "raw",
   "metadata": {
    "slideshow": {
     "slide_type": "slide"
    }
   },
   "source": [
    "```python\n",
    "\"artist\": \"U2\"\n",
    "```"
   ]
  },
  {
   "cell_type": "code",
   "execution_count": 18,
   "metadata": {
    "collapsed": true,
    "slideshow": {
     "slide_type": "notes"
    }
   },
   "outputs": [],
   "source": [
    "## and of course the most popular artist was u2, cause...apple."
   ]
  },
  {
   "cell_type": "markdown",
   "metadata": {
    "slideshow": {
     "slide_type": "subslide"
    }
   },
   "source": [
    "```python\n",
    "def decay(timestamp):\n",
    "    return math.abs(timestamp - 1419327173273) / 60 / 60 / 24\n",
    "    \n",
    "artists = [\n",
    "     song['artist'], ))\n",
    "     for song in song_library\n",
    "     if song['artist'] != 'U2' and song['playCount'] * decay(song['lastPlayedDate'] > 10\n",
    "]\n",
    "```"
   ]
  },
  {
   "cell_type": "markdown",
   "metadata": {
    "slideshow": {
     "slide_type": "slide"
    }
   },
   "source": [
    "## Likes"
   ]
  },
  {
   "cell_type": "markdown",
   "metadata": {
    "collapsed": true,
    "slideshow": {
     "slide_type": "notes"
    }
   },
   "source": [
    "## likes were coming from facebook\n",
    "## but could come from twitter as well\n",
    "## and later we also had like functionality in the app"
   ]
  },
  {
   "cell_type": "raw",
   "metadata": {
    "slideshow": {
     "slide_type": "slide"
    }
   },
   "source": [
    "```python\n",
    "{\n",
    "    \"data\": [\n",
    "        {\n",
    "            \"name\": \"Meat mission\",\n",
    "            \"id\": \"1006041752818054\",\n",
    "            \"created_time\": \"2016-04-24T16:30:31+0000\",\n",
    "            \"category\": \"Restaurant / Café\",\n",
    "            \"category_list\": [\"Burger restaurant\"],\n",
    "            \"likes\": 15\n",
    "        }\n",
    "    ]\n",
    "}\n",
    "```"
   ]
  },
  {
   "cell_type": "code",
   "execution_count": 2,
   "metadata": {
    "collapsed": true,
    "slideshow": {
     "slide_type": "notes"
    }
   },
   "outputs": [],
   "source": [
    "## that was not very helpful"
   ]
  },
  {
   "cell_type": "markdown",
   "metadata": {
    "slideshow": {
     "slide_type": "slide"
    }
   },
   "source": [
    "```python\n",
    "\"category\": \"Restaurant / Café\"\n",
    "```"
   ]
  },
  {
   "cell_type": "code",
   "execution_count": null,
   "metadata": {
    "collapsed": true
   },
   "outputs": [],
   "source": [
    "## not very useful, too generic for our use case"
   ]
  },
  {
   "cell_type": "raw",
   "metadata": {
    "slideshow": {
     "slide_type": "subslide"
    }
   },
   "source": [
    "```python\n",
    "\"category_list\": [\"Burger restaurant\"]\n",
    "```"
   ]
  },
  {
   "cell_type": "code",
   "execution_count": null,
   "metadata": {
    "collapsed": true
   },
   "outputs": [],
   "source": [
    "## only 20% had category list and some of them are not very descriptive"
   ]
  },
  {
   "cell_type": "raw",
   "metadata": {
    "slideshow": {
     "slide_type": "slide"
    }
   },
   "source": [
    "```python\n",
    "\"likes\": 15,\n",
    "```"
   ]
  },
  {
   "cell_type": "code",
   "execution_count": null,
   "metadata": {
    "collapsed": true,
    "slideshow": {
     "slide_type": "slide"
    }
   },
   "outputs": [],
   "source": [
    "## lets not forget that some of the pages you like are you friends pages"
   ]
  },
  {
   "cell_type": "markdown",
   "metadata": {
    "slideshow": {
     "slide_type": "slide"
    }
   },
   "source": [
    "```python\n",
    "curated_categories = [\n",
    "    'Burger restaurant',\n",
    "    ...\n",
    "]\n",
    "\n",
    "def friend_page(page):\n",
    "    if page['likes'] < 5000:\n",
    "        return True\n",
    "    return False\n",
    "\n",
    "interests = [\n",
    "    category\n",
    "    for page in likes if not friends_page(page) \n",
    "    for category in page.get('category_list', []) if category in curated_categories\n",
    "]\n",
    "```"
   ]
  },
  {
   "cell_type": "code",
   "execution_count": null,
   "metadata": {
    "collapsed": true,
    "slideshow": {
     "slide_type": "notes"
    }
   },
   "outputs": [],
   "source": [
    "## like pages also have a a lot of text in their descriptions and posts "
   ]
  },
  {
   "cell_type": "markdown",
   "metadata": {
    "collapsed": true,
    "slideshow": {
     "slide_type": "slide"
    }
   },
   "source": [
    "## Posts"
   ]
  },
  {
   "cell_type": "code",
   "execution_count": null,
   "metadata": {
    "collapsed": true,
    "slideshow": {
     "slide_type": "notes"
    }
   },
   "outputs": [],
   "source": [
    "## your status updates\n",
    "## your comments\n",
    "## the text in your likes\n",
    "## your tweets potentially"
   ]
  },
  {
   "cell_type": "markdown",
   "metadata": {
    "slideshow": {
     "slide_type": "slide"
    }
   },
   "source": [
    "```python\n",
    "{\n",
    "    \"data\": [\n",
    "        {\n",
    "          \"message\": \"Top 10 women the Don (Trump) has slept with http://youtu.be/9GwEcsQefB\",\n",
    "          \"link\": \"http://youtu.be/9GwEcsQefB\",\n",
    "          \"created_time\": \"2014-11-26T15:21:59+0000\",\n",
    "          \"id\": \"10152206092817233_10152447432882233\"\n",
    "        }\n",
    "    ]\n",
    "}\n",
    "```"
   ]
  },
  {
   "cell_type": "raw",
   "metadata": {
    "slideshow": {
     "slide_type": "slide"
    }
   },
   "source": [
    "```python\n",
    "\"message\": \"Top 10 women the Don (Trump) has slept with http://youtu.be/9GwEcsQefB\"\n",
    "```"
   ]
  },
  {
   "cell_type": "code",
   "execution_count": null,
   "metadata": {
    "collapsed": true,
    "slideshow": {
     "slide_type": "notes"
    }
   },
   "outputs": [],
   "source": [
    "## A message can be ubiquitous. It can also have negative sentiment.\n",
    "## We do not know if this person is a supporter of Trump or democrats."
   ]
  },
  {
   "cell_type": "markdown",
   "metadata": {
    "slideshow": {
     "slide_type": "slide"
    }
   },
   "source": [
    "```python\n",
    "\"link\": \"http://youtu.be/9GwEcsQefB\"\n",
    "```"
   ]
  },
  {
   "cell_type": "code",
   "execution_count": null,
   "metadata": {
    "collapsed": true,
    "slideshow": {
     "slide_type": "notes"
    }
   },
   "outputs": [],
   "source": [
    "## A link does not always contain text. Identifying the content of the link is a separate interesting topic by itself."
   ]
  },
  {
   "cell_type": "code",
   "execution_count": null,
   "metadata": {
    "collapsed": true,
    "slideshow": {
     "slide_type": "notes"
    }
   },
   "outputs": [],
   "source": [
    "## Other Practical considerations\n",
    "## - You are not the only one posting in your wall\n",
    "## - Some posts are private, others shared with selected friends"
   ]
  },
  {
   "cell_type": "markdown",
   "metadata": {
    "slideshow": {
     "slide_type": "slide"
    }
   },
   "source": [
    "```python\n",
    "def topics(link):\n",
    "    ## wrapper on top of\n",
    "    #  - prismatic api\n",
    "    #  - alchemy api\n",
    "    #  - or our local keyword extractor \n",
    "    return topics\n",
    "\n",
    "interests = [topic for post in posts if 'link' in post for topic in topics(link)]\n",
    "```"
   ]
  },
  {
   "cell_type": "code",
   "execution_count": null,
   "metadata": {
    "collapsed": true,
    "slideshow": {
     "slide_type": "notes"
    }
   },
   "outputs": [],
   "source": [
    "## reality check.\n",
    "## separating if the post is about a song or news or something else is an interesting topic by itself."
   ]
  }
 ],
 "metadata": {
  "celltoolbar": "Slideshow",
  "kernelspec": {
   "display_name": "Python 2",
   "language": "python",
   "name": "python2"
  },
  "language_info": {
   "codemirror_mode": {
    "name": "ipython",
    "version": 2
   },
   "file_extension": ".py",
   "mimetype": "text/x-python",
   "name": "python",
   "nbconvert_exporter": "python",
   "pygments_lexer": "ipython2",
   "version": "2.7.10"
  }
 },
 "nbformat": 4,
 "nbformat_minor": 0
}
