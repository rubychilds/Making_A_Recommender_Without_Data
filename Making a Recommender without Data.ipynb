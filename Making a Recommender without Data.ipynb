{
 "cells": [
  {
   "cell_type": "code",
   "execution_count": 3,
   "metadata": {
    "collapsed": false,
    "slideshow": {
     "slide_type": "skip"
    }
   },
   "outputs": [],
   "source": [
    "from IPython.display import Image, HTML, IFrame"
   ]
  },
  {
   "cell_type": "markdown",
   "metadata": {
    "slideshow": {
     "slide_type": "slide"
    }
   },
   "source": [
    " ## Making a Recommender Without Data\n",
    "### @rubychilds, @nsorros"
   ]
  },
  {
   "cell_type": "markdown",
   "metadata": {
    "slideshow": {
     "slide_type": "slide"
    }
   },
   "source": [
    "# Agenda\n"
   ]
  },
  {
   "cell_type": "markdown",
   "metadata": {
    "slideshow": {
     "slide_type": "slide"
    }
   },
   "source": [
    "# Background"
   ]
  },
  {
   "cell_type": "markdown",
   "metadata": {
    "slideshow": {
     "slide_type": "subslide"
    }
   },
   "source": [
    "# The Problem"
   ]
  },
  {
   "cell_type": "code",
   "execution_count": null,
   "metadata": {
    "collapsed": true,
    "slideshow": {
     "slide_type": "skip"
    }
   },
   "outputs": [],
   "source": [
    "Who here likes XXX?\n",
    "\n",
    "How do you meet people who like XXX?"
   ]
  },
  {
   "cell_type": "markdown",
   "metadata": {
    "slideshow": {
     "slide_type": "fragment"
    }
   },
   "source": [
    "## People are becoming more isolated, yet we are so connected in this century by the internet"
   ]
  },
  {
   "cell_type": "markdown",
   "metadata": {
    "slideshow": {
     "slide_type": "subslide"
    }
   },
   "source": [
    "# Mission\n",
    "## Reconnection of people\n",
    "## Simple way of meeting people with similar interests\n",
    "## Sharing treasures and knowledge that you find"
   ]
  },
  {
   "cell_type": "markdown",
   "metadata": {
    "slideshow": {
     "slide_type": "subslide"
    }
   },
   "source": [
    "# Solution\n",
    "## Using an easy medium of social networks to reconnect people in the real world through grouping and recommending people"
   ]
  },
  {
   "cell_type": "markdown",
   "metadata": {},
   "source": [
    "<div class=\"container\">\n",
    "<div class=\"row\">\n",
    "    <img src=\"6tribes.png\" alt=\"Drawing\"/> \n",
    "</div>\n",
    "</div>"
   ]
  },
  {
   "cell_type": "markdown",
   "metadata": {
    "slideshow": {
     "slide_type": "subslide"
    }
   },
   "source": [
    "# Meet Craft Cats"
   ]
  },
  {
   "cell_type": "markdown",
   "metadata": {
    "slideshow": {
     "slide_type": "fragment"
    }
   },
   "source": [
    "<div class=\"container\">\n",
    "<div class=\"row\">\n",
    "    <img src=\"tribe-crafty-types.png\" alt=\"Drawing\" style=\"width: 250px;\"/> \n",
    "</div>\n",
    "</div>"
   ]
  },
  {
   "cell_type": "code",
   "execution_count": null,
   "metadata": {
    "collapsed": true,
    "slideshow": {
     "slide_type": "skip"
    }
   },
   "outputs": [],
   "source": [
    "# Discuss 6Tribes specific terminology"
   ]
  },
  {
   "cell_type": "markdown",
   "metadata": {
    "slideshow": {
     "slide_type": "slide"
    }
   },
   "source": [
    "# Making recommendations is Easy"
   ]
  },
  {
   "cell_type": "markdown",
   "metadata": {
    "slideshow": {
     "slide_type": "subslide"
    }
   },
   "source": [
    "## Collaborative Filtering"
   ]
  },
  {
   "cell_type": "markdown",
   "metadata": {
    "slideshow": {
     "slide_type": "skip"
    }
   },
   "source": [
    "Describe a brief explanation of collaborative filtering.\n",
    "Amazon use case"
   ]
  },
  {
   "cell_type": "markdown",
   "metadata": {
    "slideshow": {
     "slide_type": "subslide"
    }
   },
   "source": [
    "### Users that join Tribe X join Tribe Y"
   ]
  },
  {
   "cell_type": "markdown",
   "metadata": {
    "slideshow": {
     "slide_type": "fragment"
    }
   },
   "source": [
    "<div class=\"container\">\n",
    "<div class=\"row\">\n",
    "    <img src=\"collab.jpg\" alt=\"Drawing\" style=\"width: 250px;\"/> \n",
    "</div>\n",
    "</div>"
   ]
  },
  {
   "cell_type": "markdown",
   "metadata": {
    "slideshow": {
     "slide_type": "fragment"
    }
   },
   "source": [
    "### No historical user behaviour data for a new user"
   ]
  },
  {
   "cell_type": "markdown",
   "metadata": {
    "slideshow": {
     "slide_type": "subslide"
    }
   },
   "source": [
    "# Content Based Filtering"
   ]
  },
  {
   "cell_type": "markdown",
   "metadata": {
    "slideshow": {
     "slide_type": "subslide"
    }
   },
   "source": [
    "### Project Users to Interest Space"
   ]
  },
  {
   "cell_type": "markdown",
   "metadata": {
    "slideshow": {
     "slide_type": "fragment"
    }
   },
   "source": [
    "<div class=\"container\">\n",
    "<div class=\"row\">\n",
    "    <img src=\"ndim.jpg\" alt=\"Drawing\" style=\"width: 250px;\"/> \n",
    "</div>\n",
    "</div>"
   ]
  },
  {
   "cell_type": "markdown",
   "metadata": {
    "slideshow": {
     "slide_type": "fragment"
    }
   },
   "source": [
    "### Interest Space?"
   ]
  },
  {
   "cell_type": "markdown",
   "metadata": {
    "slideshow": {
     "slide_type": "slide"
    }
   },
   "source": [
    "# Making good recommendations is hard"
   ]
  },
  {
   "cell_type": "markdown",
   "metadata": {
    "slideshow": {
     "slide_type": "notes"
    }
   },
   "source": [
    "Re-emphasize the difficulties\n",
    "\n",
    "Exploring:\n",
    "    1.Areas of data: \n",
    "    2.External API usage"
   ]
  },
  {
   "cell_type": "markdown",
   "metadata": {
    "slideshow": {
     "slide_type": "subslide"
    }
   },
   "source": [
    "## Location\n",
    "\n"
   ]
  },
  {
   "cell_type": "markdown",
   "metadata": {
    "slideshow": {
     "slide_type": "subslide"
    }
   },
   "source": [
    "```python\n",
    "{\n",
    "   \"data\":[\n",
    "      {\n",
    "         \"type\": \"photo\",\n",
    "         \"orientation\": \"up\",\n",
    "         \"mirrored\": False,\n",
    "         \"location\": {\n",
    "            \"latitude\": -0.14533333,\n",
    "            \"longitude\": 50.82383333\n",
    "         },\n",
    "         \"timestamp\": 1323430996000\n",
    "      }, \n",
    "      {...}\n",
    "   ]\n",
    "}\n",
    "```"
   ]
  },
  {
   "cell_type": "markdown",
   "metadata": {
    "slideshow": {
     "slide_type": "notes"
    }
   },
   "source": [
    "- IPhone Photos\n",
    "- Facebook Checkins\n",
    "- Facebook Photos"
   ]
  },
  {
   "cell_type": "markdown",
   "metadata": {
    "slideshow": {
     "slide_type": "subslide"
    }
   },
   "source": [
    "```python\n",
    "locations = [(-0.14, 50.82), (0.2, 52.94), ...]\n",
    "```"
   ]
  },
  {
   "cell_type": "markdown",
   "metadata": {
    "slideshow": {
     "slide_type": "fragment"
    }
   },
   "source": [
    "```python\n",
    "def places_api(locations):\n",
    "    # Wrapper function on top of\n",
    "    # - Google maps\n",
    "    # - Foursquare api\n",
    "    return place\n",
    "    \n",
    "places = places_api(locations)\n",
    "```"
   ]
  },
  {
   "cell_type": "code",
   "execution_count": null,
   "metadata": {
    "collapsed": true,
    "slideshow": {
     "slide_type": "subslide"
    }
   },
   "outputs": [],
   "source": [
    "### "
   ]
  },
  {
   "cell_type": "code",
   "execution_count": null,
   "metadata": {
    "collapsed": false
   },
   "outputs": [],
   "source": []
  },
  {
   "cell_type": "code",
   "execution_count": null,
   "metadata": {
    "collapsed": true
   },
   "outputs": [],
   "source": []
  },
  {
   "cell_type": "code",
   "execution_count": null,
   "metadata": {
    "collapsed": true,
    "slideshow": {
     "slide_type": "notes"
    }
   },
   "outputs": [],
   "source": [
    "- Location filtering - not related to interests\n",
    "- Enrich data with the type of places you visit: Coffee shops, Art galleries, Rock climbing centers...\n",
    "\n",
    "API's:\n",
    "\n",
    "- Here\n",
    "- Foursquare\n",
    "- Maps (Google)\n",
    "\n",
    "All pretty $$$ for a startup trying to scale...."
   ]
  },
  {
   "cell_type": "markdown",
   "metadata": {
    "slideshow": {
     "slide_type": "subslide"
    }
   },
   "source": [
    "## Posts\n",
    "\n",
    "- Posts vary widely across users: some emotionally driven posts, some random clips, music, auto-generated\n",
    "- Limited text: limited insight\n",
    "\n",
    "API's:\n",
    "\n",
    "- Alchemy: extracting further information from links shared\n",
    "- Prismatic: extracting links\n"
   ]
  },
  {
   "cell_type": "markdown",
   "metadata": {
    "slideshow": {
     "slide_type": "subslide"
    }
   },
   "source": [
    "## Music\n",
    "\n",
    "- Has relevance to people that love music, little relevance to others\n",
    "- An interest in its own right\n",
    "- Incomplete and often old\n",
    "\n",
    "API's:\n",
    "\n",
    "- Itunes\n"
   ]
  },
  {
   "cell_type": "markdown",
   "metadata": {
    "slideshow": {
     "slide_type": "subslide"
    }
   },
   "source": [
    "## Likes"
   ]
  },
  {
   "cell_type": "code",
   "execution_count": null,
   "metadata": {
    "collapsed": true
   },
   "outputs": [],
   "source": []
  },
  {
   "cell_type": "raw",
   "metadata": {
    "slideshow": {
     "slide_type": "slide"
    }
   },
   "source": [
    "<div class=\"container\">\n",
    "<div class=\"row\">\n",
    " <div class=\"col-md-6 center\">\n",
    "    <img src=\"ruby.png\" alt=\"Drawing\" style=\"width: 250px;\"/>\n",
    "    <p>@RubyChilds</p>\n",
    "    <p>ruby.childs1@gmail.com</p>\n",
    " </div>\n",
    "  <div class=\"col-md-6 center\">\n",
    "    <img src=\"nick.png\" alt=\"Drawing\" style=\"width: 250px;\"/> \n",
    "     <p>@NSorros</p>\n",
    "      <p>nsorros@gmail.com</p>\n",
    "  </div>\n",
    "</div>\n",
    "</div>"
   ]
  },
  {
   "cell_type": "markdown",
   "metadata": {
    "collapsed": true,
    "slideshow": {
     "slide_type": "slide"
    }
   },
   "source": [
    "# Q&A"
   ]
  }
 ],
 "metadata": {
  "celltoolbar": "Slideshow",
  "kernelspec": {
   "display_name": "Python 3",
   "language": "python",
   "name": "python3"
  },
  "language_info": {
   "codemirror_mode": {
    "name": "ipython",
    "version": 3
   },
   "file_extension": ".py",
   "mimetype": "text/x-python",
   "name": "python",
   "nbconvert_exporter": "python",
   "pygments_lexer": "ipython3",
   "version": "3.5.1"
  }
 },
 "nbformat": 4,
 "nbformat_minor": 0
}
