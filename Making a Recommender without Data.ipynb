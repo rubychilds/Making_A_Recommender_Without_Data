{
 "cells": [
  {
   "cell_type": "code",
   "execution_count": 3,
   "metadata": {
    "collapsed": false,
    "slideshow": {
     "slide_type": "skip"
    }
   },
   "outputs": [],
   "source": [
    "from IPython.display import Image, HTML, IFrame"
   ]
  },
  {
   "cell_type": "markdown",
   "metadata": {
    "slideshow": {
     "slide_type": "slide"
    }
   },
   "source": [
    " ## Making a Recommender Without Data\n",
    "### @rubychilds, @nsorros"
   ]
  },
  {
   "cell_type": "markdown",
   "metadata": {
    "slideshow": {
     "slide_type": "slide"
    }
   },
   "source": [
    "# Agenda\n"
   ]
  },
  {
   "cell_type": "markdown",
   "metadata": {
    "slideshow": {
     "slide_type": "slide"
    }
   },
   "source": [
    "# Background"
   ]
  },
  {
   "cell_type": "markdown",
   "metadata": {
    "slideshow": {
     "slide_type": "subslide"
    }
   },
   "source": [
    "# The Problem"
   ]
  },
  {
   "cell_type": "code",
   "execution_count": null,
   "metadata": {
    "collapsed": true,
    "slideshow": {
     "slide_type": "skip"
    }
   },
   "outputs": [],
   "source": [
    "Who here likes XXX?\n",
    "\n",
    "How do you meet people who like XXX?"
   ]
  },
  {
   "cell_type": "markdown",
   "metadata": {
    "slideshow": {
     "slide_type": "fragment"
    }
   },
   "source": [
    "## People are becoming more isolated, yet we are so connected in this century by the internet"
   ]
  },
  {
   "cell_type": "markdown",
   "metadata": {
    "slideshow": {
     "slide_type": "subslide"
    }
   },
   "source": [
    "# Mission\n",
    "## Reconnection of people\n",
    "## Simple way of meeting people with similar interests\n",
    "## Sharing treasures and knowledge that you find"
   ]
  },
  {
   "cell_type": "markdown",
   "metadata": {
    "slideshow": {
     "slide_type": "subslide"
    }
   },
   "source": [
    "# Solution\n",
    "## Using an easy medium of social networks to reconnect people in the real world through grouping and recommending people"
   ]
  },
  {
   "cell_type": "markdown",
   "metadata": {},
   "source": [
    "<div class=\"container\">\n",
    "<div class=\"row\">\n",
    "    <img src=\"assets/6tribes.png\" alt=\"Drawing\"/> \n",
    "</div>\n",
    "</div>"
   ]
  },
  {
   "cell_type": "markdown",
   "metadata": {
    "slideshow": {
     "slide_type": "subslide"
    }
   },
   "source": [
    "# Meet Crafty Cats"
   ]
  },
  {
   "cell_type": "markdown",
   "metadata": {
    "slideshow": {
     "slide_type": "fragment"
    }
   },
   "source": [
    "<div class=\"container\">\n",
    "<div class=\"row\">\n",
    "    <img src=\"assets/tribe-crafty-types.png\" alt=\"Drawing\" style=\"width: 250px;\"/> \n",
    "</div>\n",
    "</div>"
   ]
  },
  {
   "cell_type": "code",
   "execution_count": null,
   "metadata": {
    "collapsed": true,
    "slideshow": {
     "slide_type": "skip"
    }
   },
   "outputs": [],
   "source": [
    "# Discuss 6Tribes specific terminology"
   ]
  },
  {
   "cell_type": "markdown",
   "metadata": {
    "slideshow": {
     "slide_type": "slide"
    }
   },
   "source": [
    "# Making recommendations is Easy"
   ]
  },
  {
   "cell_type": "markdown",
   "metadata": {
    "slideshow": {
     "slide_type": "subslide"
    }
   },
   "source": [
    "## Collaborative Filtering"
   ]
  },
  {
   "cell_type": "markdown",
   "metadata": {
    "slideshow": {
     "slide_type": "skip"
    }
   },
   "source": [
    "Describe a brief explanation of collaborative filtering.\n",
    "Amazon use case"
   ]
  },
  {
   "cell_type": "markdown",
   "metadata": {
    "slideshow": {
     "slide_type": "subslide"
    }
   },
   "source": [
    "### Users that join Tribe X join Tribe Y"
   ]
  },
  {
   "cell_type": "markdown",
   "metadata": {
    "slideshow": {
     "slide_type": "fragment"
    }
   },
   "source": [
    "<div class=\"container\">\n",
    "<div class=\"row\">\n",
    "    <img src=\"collab.jpg\" alt=\"Drawing\" style=\"width: 250px;\"/> \n",
    "</div>\n",
    "</div>"
   ]
  },
  {
   "cell_type": "markdown",
   "metadata": {
    "slideshow": {
     "slide_type": "fragment"
    }
   },
   "source": [
    "### No historical user behaviour data for a new user"
   ]
  },
  {
   "cell_type": "markdown",
   "metadata": {
    "slideshow": {
     "slide_type": "subslide"
    }
   },
   "source": [
    "# Content Based Filtering"
   ]
  },
  {
   "cell_type": "markdown",
   "metadata": {
    "slideshow": {
     "slide_type": "subslide"
    }
   },
   "source": [
    "### Project Users to Interest Space"
   ]
  },
  {
   "cell_type": "markdown",
   "metadata": {
    "slideshow": {
     "slide_type": "fragment"
    }
   },
   "source": [
    "<div class=\"container\">\n",
    "<div class=\"row\">\n",
    "    <img src=\"ndim.jpg\" alt=\"Drawing\" style=\"width: 250px;\"/> \n",
    "</div>\n",
    "</div>"
   ]
  },
  {
   "cell_type": "markdown",
   "metadata": {
    "slideshow": {
     "slide_type": "fragment"
    }
   },
   "source": [
    "### Interest Space?"
   ]
  },
  {
   "cell_type": "markdown",
   "metadata": {
    "slideshow": {
     "slide_type": "slide"
    }
   },
   "source": [
    "# Making good recommendations is hard"
   ]
  },
  {
   "cell_type": "markdown",
   "metadata": {
    "slideshow": {
     "slide_type": "notes"
    }
   },
   "source": [
    "Re-emphasize the difficulties\n",
    "\n",
    "Exploring:\n",
    "    1.Areas of data: \n",
    "    2.External API usage"
   ]
  },
  {
   "cell_type": "markdown",
   "metadata": {
    "slideshow": {
     "slide_type": "subslide"
    }
   },
   "source": [
    "## Location\n",
    "\n"
   ]
  },
  {
   "cell_type": "markdown",
   "metadata": {
    "slideshow": {
     "slide_type": "subslide"
    }
   },
   "source": [
    "```python\n",
    "{\n",
    "   \"data\":[\n",
    "      {\n",
    "         \"type\": \"photo\",\n",
    "         \"orientation\": \"up\",\n",
    "         \"mirrored\": False,\n",
    "         \"location\": {\n",
    "            \"latitude\": -0.14533333,\n",
    "            \"longitude\": 50.82383333\n",
    "         },\n",
    "         \"timestamp\": 1323430996000\n",
    "      }, \n",
    "      {...}\n",
    "   ]\n",
    "}\n",
    "```"
   ]
  },
  {
   "cell_type": "markdown",
   "metadata": {
    "slideshow": {
     "slide_type": "notes"
    }
   },
   "source": [
    "- IPhone Photos\n",
    "- Facebook Checkins\n",
    "- Facebook Photos"
   ]
  },
  {
   "cell_type": "markdown",
   "metadata": {
    "slideshow": {
     "slide_type": "subslide"
    }
   },
   "source": [
    "```python\n",
    "locations = [(-0.14, 50.82), (0.2, 52.94), ...]\n",
    "```"
   ]
  },
  {
   "cell_type": "markdown",
   "metadata": {
    "slideshow": {
     "slide_type": "fragment"
    }
   },
   "source": [
    "```python\n",
    "def places_api(locations):\n",
    "    # Wrapper function on top of\n",
    "    # - Google maps\n",
    "    # - Foursquare api\n",
    "    return place\n",
    "    \n",
    "places = places_api(locations)\n",
    "```"
   ]
  },
  {
   "cell_type": "code",
   "execution_count": null,
   "metadata": {
    "collapsed": true,
    "slideshow": {
     "slide_type": "subslide"
    }
   },
   "outputs": [],
   "source": [
    "### "
   ]
  },
  {
   "cell_type": "markdown",
   "metadata": {
    "collapsed": true,
    "slideshow": {
     "slide_type": "notes"
    }
   },
   "source": [
    "- Location filtering - not related to interests\n",
    "- Enrich data with the type of places you visit: Coffee shops, Art galleries, Rock climbing centers...\n",
    "\n",
    "API's:\n",
    "\n",
    "- Here\n",
    "- Foursquare\n",
    "- Maps (Google)\n",
    "\n",
    "All pretty $$$ for a startup trying to scale...."
   ]
  },
  {
   "cell_type": "markdown",
   "metadata": {
    "slideshow": {
     "slide_type": "subslide"
    }
   },
   "source": [
    "## Posts\n",
    "\n",
    "- Posts vary widely across users: some emotionally driven posts, some random clips, music, auto-generated\n",
    "- Limited text: limited insight\n",
    "\n",
    "API's:\n",
    "\n",
    "- Alchemy: extracting further information from links shared\n",
    "- Prismatic: extracting links\n"
   ]
  },
  {
   "cell_type": "markdown",
   "metadata": {
    "slideshow": {
     "slide_type": "subslide"
    }
   },
   "source": [
    "## Music\n",
    "\n",
    "- Has relevance to people that love music, little relevance to others\n",
    "- An interest in its own right\n",
    "- Incomplete and often old\n",
    "\n",
    "API's:\n",
    "\n",
    "- Itunes\n"
   ]
  },
  {
   "cell_type": "markdown",
   "metadata": {
    "slideshow": {
     "slide_type": "subslide"
    }
   },
   "source": [
    "## Likes"
   ]
  },
  {
   "cell_type": "markdown",
   "metadata": {
    "collapsed": true,
    "slideshow": {
     "slide_type": "slide"
    }
   },
   "source": [
    "# Making recommendations without data is impossible. Or is it?"
   ]
  },
  {
   "cell_type": "markdown",
   "metadata": {
    "slideshow": {
     "slide_type": "subslide"
    }
   },
   "source": [
    "# Engineering"
   ]
  },
  {
   "cell_type": "markdown",
   "metadata": {
    "slideshow": {
     "slide_type": "subslide"
    }
   },
   "source": [
    "- Opbeat "
   ]
  },
  {
   "cell_type": "markdown",
   "metadata": {
    "slideshow": {
     "slide_type": "fragment"
    }
   },
   "source": [
    "<div class=\"container\">\n",
    "<div class=\"row\">\n",
    "    <img src=\"assets/opbeat.png\" alt=\"Drawing\" style=\"width: 500px;\"/>\n",
    "</div>\n",
    "</div>"
   ]
  },
  {
   "cell_type": "markdown",
   "metadata": {
    "slideshow": {
     "slide_type": "subslide"
    }
   },
   "source": [
    "- Elasticsearch"
   ]
  },
  {
   "cell_type": "markdown",
   "metadata": {
    "slideshow": {
     "slide_type": "notes"
    }
   },
   "source": [
    "- State why use ES: powerful, scalability\n",
    "- Recommendations became retrieval: finding most recommended\n",
    "- MLT: issues behind this: if document is empty, tweek of MLT. Personalisation, need to improve MLT"
   ]
  },
  {
   "cell_type": "markdown",
   "metadata": {
    "slideshow": {
     "slide_type": "fragment"
    }
   },
   "source": [
    "```json\n",
    "{\n",
    "    \"settings\": {\n",
    "        \"analysis\": {\n",
    "            \"filter\": {\n",
    "                \"my_english_stopwords\":{\n",
    "                    \"type\": \"stop\",\n",
    "                    \"stopwords\": \"_english_\"\n",
    "                },\n",
    "                \"name_synonym_filter\" : {\n",
    "                    \"type\" : \"synonym\",\n",
    "                    \"synonyms\" : [\"kung foodies => kung foodies,food\",\n",
    "                                  \"arthouse => art,art house,arthouse\",\n",
    "                                  \"let there be house => house,music,let there be house\",\n",
    "                                  \"scene shifters=>theatre,scene shifters\",\n",
    "                                  \"wanderlusters=> wanderlusters,travel\"\n",
    "                                ]\n",
    "                },\n",
    "                \"minimal_english_stemmer\" : {\n",
    "                    \"type\" : \"stemmer\",\n",
    "                    \"name\" : \"minimal_english\"\n",
    "                }\n",
    "          },\n",
    "            \"analyzer\": {\n",
    "                \"my_lowercase_keyword\":{\n",
    "                    \"type\": \"custom\",\n",
    "                    \"tokenizer\": \"keyword\",\n",
    "                    \"filter\": [\"standard\", \"lowercase\", \"my_english_stopwords\", \"minimal_english_stemmer\"]\n",
    "                },\n",
    "                \"name_synonyms\" : {\n",
    "                      \"tokenizer\" : \"whitespace\",\n",
    "                      \"filter\" : [\"standard\", \"lowercase\",\"name_synonym_filter\",  \"minimal_english_stemmer\"]\n",
    "                },\n",
    "                \"basic_standard_with_min_english\": {\n",
    "                    \"type\": \"custom\",\n",
    "                    \"tokenizer\" : \"standard\",\n",
    "                    \"filter\": [\"standard\", \"lowercase\", \"my_english_stopwords\", \"minimal_english_stemmer\"]\n",
    "                }\n",
    "            }\n",
    "        }\n",
    "    }, ....\n",
    "    \n",
    "```"
   ]
  },
  {
   "cell_type": "markdown",
   "metadata": {
    "slideshow": {
     "slide_type": "subslide"
    }
   },
   "source": [
    "- Flask API to handle DS requests: iterate quickly"
   ]
  },
  {
   "cell_type": "markdown",
   "metadata": {
    "slideshow": {
     "slide_type": "notes"
    }
   },
   "source": [
    "- Iterate quickly\n",
    "- Microservice\n",
    "- Built our own API\n",
    "- Scala and Python\n",
    "- Tech agnostic"
   ]
  },
  {
   "cell_type": "markdown",
   "metadata": {
    "slideshow": {
     "slide_type": "fragment"
    }
   },
   "source": [
    "## GET /tribes\n",
    "\n",
    "Required query parameters\n",
    "\n",
    "- match_user_id\n",
    "\n",
    "```\n",
    "{\n",
    "   \"data\": [\n",
    "      {\n",
    "          \"id\": 1000000000000018,\n",
    "          \"score\": 0.89\n",
    "      },...\n",
    "   ]\n",
    "}\n",
    "```\n",
    "\n",
    "Optional query parameters\n",
    "\n",
    "- latitude, longitude, exclude_tribe_ids, size\n",
    "\n",
    "## GET /tribes/:tribe_id\n",
    "\n",
    "Required query parameters\n",
    "\n",
    "- match_user_id\n",
    "\n",
    "```\n",
    "{\n",
    "  \"id\": 1000000000000018,\n",
    "  \"score\": 0.89\n",
    "}\n",
    "```"
   ]
  },
  {
   "cell_type": "markdown",
   "metadata": {
    "slideshow": {
     "slide_type": "subslide"
    }
   },
   "source": [
    "# Enrichment"
   ]
  },
  {
   "cell_type": "markdown",
   "metadata": {
    "slideshow": {
     "slide_type": "subslide"
    }
   },
   "source": [
    "- Api's are your friend\n",
    "- Use many then cut down and consider $$$"
   ]
  },
  {
   "cell_type": "markdown",
   "metadata": {
    "slideshow": {
     "slide_type": "fragment"
    }
   },
   "source": [
    "<div class=\"container\">\n",
    "<div class=\"row\">\n",
    "    <img src=\"logos/logos.png\" alt=\"Drawing\" style=\"width: 600px;\"/>\n",
    "</div>\n",
    "</div>"
   ]
  },
  {
   "cell_type": "markdown",
   "metadata": {
    "slideshow": {
     "slide_type": "subslide"
    }
   },
   "source": [
    "# Scalability"
   ]
  },
  {
   "cell_type": "markdown",
   "metadata": {
    "slideshow": {
     "slide_type": "subslide"
    }
   },
   "source": [
    "- Workers handling request\n",
    "- Distinguish betweetn instant recommendations and batch"
   ]
  },
  {
   "cell_type": "markdown",
   "metadata": {
    "slideshow": {
     "slide_type": "notes"
    }
   },
   "source": [
    "- elasticsearch: reading\n",
    "- writing data: workers needed"
   ]
  },
  {
   "cell_type": "markdown",
   "metadata": {
    "slideshow": {
     "slide_type": "subslide"
    }
   },
   "source": [
    "# Deployment and Improving"
   ]
  },
  {
   "cell_type": "markdown",
   "metadata": {
    "slideshow": {
     "slide_type": "subslide"
    }
   },
   "source": [
    "- CircleCI"
   ]
  },
  {
   "cell_type": "markdown",
   "metadata": {
    "collapsed": true,
    "slideshow": {
     "slide_type": "notes"
    }
   },
   "source": [
    "- continuous integration and deployment\n",
    "- fix errors quickly\n",
    "- no waiting around\n",
    "- git push -f : protecting branches"
   ]
  },
  {
   "cell_type": "markdown",
   "metadata": {
    "slideshow": {
     "slide_type": "subslide"
    }
   },
   "source": [
    "# Lessons Learned"
   ]
  },
  {
   "cell_type": "markdown",
   "metadata": {
    "slideshow": {
     "slide_type": "slide"
    }
   },
   "source": [
    "<div class=\"container\">\n",
    "<div class=\"row\">\n",
    " <div class=\"col-md-6 center\">\n",
    "    <img src=\"assets/ruby.png\" alt=\"Drawing\" style=\"width: 250px;\"/>\n",
    "    <p>@RubyChilds</p>\n",
    "    <p>ruby.childs1@gmail.com</p>\n",
    " </div>\n",
    "  <div class=\"col-md-6 center\">\n",
    "    <img src=\"assets/nick.png\" alt=\"Drawing\" style=\"width: 250px;\"/> \n",
    "     <p>@NSorros</p>\n",
    "      <p>nsorros@gmail.com</p>\n",
    "  </div>\n",
    "</div>\n",
    "</div>"
   ]
  },
  {
   "cell_type": "markdown",
   "metadata": {
    "collapsed": true,
    "slideshow": {
     "slide_type": "slide"
    }
   },
   "source": [
    "# Q&A"
   ]
  }
 ],
 "metadata": {
  "celltoolbar": "Slideshow",
  "kernelspec": {
   "display_name": "Python 3",
   "language": "python",
   "name": "python3"
  },
  "language_info": {
   "codemirror_mode": {
    "name": "ipython",
    "version": 3
   },
   "file_extension": ".py",
   "mimetype": "text/x-python",
   "name": "python",
   "nbconvert_exporter": "python",
   "pygments_lexer": "ipython3",
   "version": "3.5.1"
  }
 },
 "nbformat": 4,
 "nbformat_minor": 0
}
