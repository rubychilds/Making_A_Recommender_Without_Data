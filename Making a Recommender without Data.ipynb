{
 "cells": [
  {
   "cell_type": "code",
   "execution_count": 4,
   "metadata": {
    "collapsed": false,
    "slideshow": {
     "slide_type": "skip"
    }
   },
   "outputs": [],
   "source": [
    "from IPython.display import Image, HTML, IFrame"
   ]
  },
  {
   "cell_type": "markdown",
   "metadata": {
    "slideshow": {
     "slide_type": "slide"
    }
   },
   "source": [
    "<div class=\"row\">\n",
    "    <img class=\"center\" src=\"assets/front_page.png\"/> \n",
    "</div>"
   ]
  },
  {
   "cell_type": "markdown",
   "metadata": {
    "slideshow": {
     "slide_type": "slide"
    }
   },
   "source": [
    "# Agenda\n",
    "\n",
    "#### Background\n",
    "#### Making Recommendations is Easy\n",
    "#### Making Good Recommendations is Hard\n",
    "#### Making recommendations without data is impossible. Or is it?\n",
    "#### Deployment and Improving\n",
    "#### Q&A"
   ]
  },
  {
   "cell_type": "markdown",
   "metadata": {
    "slideshow": {
     "slide_type": "slide"
    }
   },
   "source": [
    "# Background"
   ]
  },
  {
   "cell_type": "markdown",
   "metadata": {
    "slideshow": {
     "slide_type": "subslide"
    }
   },
   "source": [
    "# The Problem"
   ]
  },
  {
   "cell_type": "markdown",
   "metadata": {
    "collapsed": true,
    "slideshow": {
     "slide_type": "skip"
    }
   },
   "source": [
    "Who here likes XXX?\n",
    "\n",
    "How do you meet people who like XXX?"
   ]
  },
  {
   "cell_type": "markdown",
   "metadata": {
    "slideshow": {
     "slide_type": "skip"
    }
   },
   "source": [
    "How do you meet people who like XXX"
   ]
  },
  {
   "cell_type": "markdown",
   "metadata": {
    "slideshow": {
     "slide_type": "fragment"
    }
   },
   "source": [
    "#### People are becoming more isolated, yet we are so connected in this century by the internet"
   ]
  },
  {
   "cell_type": "markdown",
   "metadata": {
    "slideshow": {
     "slide_type": "subslide"
    }
   },
   "source": [
    "## Mission"
   ]
  },
  {
   "cell_type": "markdown",
   "metadata": {
    "slideshow": {
     "slide_type": "fragment"
    }
   },
   "source": [
    "#### Reconnection of people\n",
    "#### Simple way of meeting people with similar interests\n",
    "#### Sharing treasures and knowledge that you find"
   ]
  },
  {
   "cell_type": "markdown",
   "metadata": {
    "slideshow": {
     "slide_type": "subslide"
    }
   },
   "source": [
    "# Solution\n",
    "#### Using an easy medium of social networks to reconnect people in the real world through grouping and recommending people"
   ]
  },
  {
   "cell_type": "markdown",
   "metadata": {
    "slideshow": {
     "slide_type": "subslide"
    }
   },
   "source": [
    "# Meet Crafty Cats"
   ]
  },
  {
   "cell_type": "markdown",
   "metadata": {
    "slideshow": {
     "slide_type": "fragment"
    }
   },
   "source": [
    "<div class=\"container\">\n",
    "<div class=\"row\">\n",
    "    <img src=\"assets/tribe-crafty-types.png\" alt=\"Drawing\" style=\"width: 250px;\"/> \n",
    "</div>\n",
    "</div>"
   ]
  },
  {
   "cell_type": "code",
   "execution_count": null,
   "metadata": {
    "collapsed": true,
    "slideshow": {
     "slide_type": "skip"
    }
   },
   "outputs": [],
   "source": [
    "# Discuss 6Tribes specific terminology"
   ]
  },
  {
   "cell_type": "markdown",
   "metadata": {
    "slideshow": {
     "slide_type": "slide"
    }
   },
   "source": [
    "# Making recommendations is Easy"
   ]
  },
  {
   "cell_type": "markdown",
   "metadata": {
    "slideshow": {
     "slide_type": "subslide"
    }
   },
   "source": [
    "## Collaborative Filtering"
   ]
  },
  {
   "cell_type": "markdown",
   "metadata": {
    "slideshow": {
     "slide_type": "skip"
    }
   },
   "source": [
    "Describe a brief explanation of collaborative filtering.\n",
    "Amazon use case"
   ]
  },
  {
   "cell_type": "markdown",
   "metadata": {
    "slideshow": {
     "slide_type": "subslide"
    }
   },
   "source": [
    "### Users that join Tribe X join Tribe Y"
   ]
  },
  {
   "cell_type": "markdown",
   "metadata": {
    "slideshow": {
     "slide_type": "fragment"
    }
   },
   "source": [
    "<div class=\"container\">\n",
    "<div class=\"row\">\n",
    "    <img src=\"assets/collab.jpg\" alt=\"Drawing\" style=\"width: 250px;\"/> \n",
    "</div>\n",
    "</div>"
   ]
  },
  {
   "cell_type": "markdown",
   "metadata": {
    "slideshow": {
     "slide_type": "fragment"
    }
   },
   "source": [
    "#### No historical user behaviour data for a new user"
   ]
  },
  {
   "cell_type": "markdown",
   "metadata": {
    "slideshow": {
     "slide_type": "subslide"
    }
   },
   "source": [
    "# Content Based Filtering"
   ]
  },
  {
   "cell_type": "markdown",
   "metadata": {
    "slideshow": {
     "slide_type": "subslide"
    }
   },
   "source": [
    "### Project Users to Interest Space"
   ]
  },
  {
   "cell_type": "markdown",
   "metadata": {
    "slideshow": {
     "slide_type": "fragment"
    }
   },
   "source": [
    "<div class=\"container\">\n",
    "<div class=\"row\">\n",
    "    <img src=\"assets/ndim.jpg\" alt=\"Drawing\" style=\"width: 250px;\"/> \n",
    "</div>\n",
    "</div>"
   ]
  },
  {
   "cell_type": "markdown",
   "metadata": {
    "slideshow": {
     "slide_type": "fragment"
    }
   },
   "source": [
    "### Interest Space?"
   ]
  },
  {
   "cell_type": "markdown",
   "metadata": {
    "slideshow": {
     "slide_type": "slide"
    }
   },
   "source": [
    "# Making good recommendations is hard"
   ]
  },
  {
   "cell_type": "markdown",
   "metadata": {
    "slideshow": {
     "slide_type": "notes"
    }
   },
   "source": [
    "- Should discuss lack over data\n",
    "- little data we do have would be an overfit\n",
    "- the data we do have...\n",
    "- Social network integration - need for signin to provide initial data"
   ]
  },
  {
   "cell_type": "markdown",
   "metadata": {
    "slideshow": {
     "slide_type": "subslide"
    }
   },
   "source": [
    "<div class=\"container\">\n",
    "<div class=\"row\">\n",
    " <div class=\"col-md-6 center\">\n",
    "    <img src=\"assets/facebook.jpg\" alt=\"Drawing\" style=\"width: 30%;\"/> \n",
    "    </div>\n",
    "     <div class=\"col-md-6 center\">\n",
    "    <img src=\"assets/apple.png\" alt=\"Drawing\" style=\"width: 30%\"/> \n",
    "    </div>\n",
    "</div>\n",
    "</div>"
   ]
  },
  {
   "cell_type": "markdown",
   "metadata": {
    "slideshow": {
     "slide_type": "subslide"
    }
   },
   "source": [
    "## Location"
   ]
  },
  {
   "cell_type": "markdown",
   "metadata": {
    "slideshow": {
     "slide_type": "fragment"
    }
   },
   "source": [
    "```python\n",
    "{\n",
    "   \"data\":[\n",
    "      {\n",
    "         \"type\": \"photo\",\n",
    "         \"orientation\": \"up\",\n",
    "         \"mirrored\": False,\n",
    "         \"location\": {\n",
    "            \"latitude\": -0.14533333,\n",
    "            \"longitude\": 50.82383333\n",
    "         },\n",
    "         \"timestamp\": 1323430996000\n",
    "      }\n",
    "   ]\n",
    "}\n",
    "```"
   ]
  },
  {
   "cell_type": "markdown",
   "metadata": {
    "slideshow": {
     "slide_type": "notes"
    }
   },
   "source": [
    "Location data are embedded in your photos.Also in the places you were tagged in facebook."
   ]
  },
  {
   "cell_type": "markdown",
   "metadata": {
    "slideshow": {
     "slide_type": "subslide"
    }
   },
   "source": [
    "```python\n",
    "    locations = [(-0.14, 50.82), (0.2, 52.94), ...]\n",
    "```"
   ]
  },
  {
   "cell_type": "markdown",
   "metadata": {
    "slideshow": {
     "slide_type": "fragment"
    }
   },
   "source": [
    "```python\n",
    "def places_api(lat, lon):\n",
    "    # Wrapper function on top of\n",
    "    # - Google maps\n",
    "    # - Foursquare api\n",
    "    return place\n",
    "    \n",
    "places = [places_api(lat, lon) for (lat, lon) in locations]\n",
    "```"
   ]
  },
  {
   "cell_type": "markdown",
   "metadata": {
    "slideshow": {
     "slide_type": "notes"
    }
   },
   "source": [
    "can someone guess what is the most common place in yout location data?"
   ]
  },
  {
   "cell_type": "markdown",
   "metadata": {
    "slideshow": {
     "slide_type": "notes"
    }
   },
   "source": [
    "- Location filtering - not related to interests\n",
    "- what we ended up doing was to hardcode the most popular place our users have been\n",
    "- the next step would be to create a script to detect a new popular location we have not included\n",
    "- we would then use the places api to make us suggestions about potential places around that location\n",
    "- with the goal at some day this whole process to be completely automated"
   ]
  },
  {
   "cell_type": "markdown",
   "metadata": {
    "slideshow": {
     "slide_type": "subslide"
    }
   },
   "source": [
    "```python\n",
    "popular_places = {\n",
    "    'hyde_park': [\n",
    "        (51.504365, -0.152372),\n",
    "        (51.512739, -0.159349),\n",
    "        (51.509734, -0.188102),\n",
    "        (51.502134, -0.184240)\n",
    "    ],\n",
    "    'shoreditch': [\n",
    "        (51.535698, -0.114082),\n",
    "        (51.518503, -0.073828),\n",
    "        (51.531159, -0.073098),\n",
    "        (51.526807, -0.106786)\n",
    "    ]\n",
    "}\n",
    "\n",
    "def places_lookup(lat, lon):\n",
    "    for name, coordinates in popular_places:\n",
    "        if inside(lat, lon, coordinates):\n",
    "            return name\n",
    "    return None\n",
    "\n",
    "places = [places_lookup(lat, lon) for (lat, lon) in locations]\n",
    "```"
   ]
  },
  {
   "cell_type": "markdown",
   "metadata": {
    "slideshow": {
     "slide_type": "slide"
    }
   },
   "source": [
    "## Music"
   ]
  },
  {
   "cell_type": "markdown",
   "metadata": {
    "slideshow": {
     "slide_type": "notes"
    }
   },
   "source": [
    "- music from your iphone library\n",
    "- integration from spotify as a next step"
   ]
  },
  {
   "cell_type": "markdown",
   "metadata": {
    "slideshow": {
     "slide_type": "subslide"
    }
   },
   "source": [
    "```python\n",
    "{\n",
    "   \"data\": [\n",
    "      {\n",
    "         \"skipCount\": 0,\n",
    "         \"playCount\": 0,\n",
    "         \"title\": \"The innocent song\",\n",
    "         \"albumTitle\": \"Songs of Innocence\",\n",
    "         \"genre\": \"Rock\",\n",
    "         \"artist\": \"U2\",\n",
    "         \"lastPlayedDate\": 1419328173273,\n",
    "         \"albumArtist\": \"U2\"\n",
    "      }\n",
    "   ]\n",
    "}\n",
    "```"
   ]
  },
  {
   "cell_type": "markdown",
   "metadata": {
    "slideshow": {
     "slide_type": "subslide"
    }
   },
   "source": [
    "```python\n",
    "\"playCount\": 0\n",
    "```"
   ]
  },
  {
   "cell_type": "markdown",
   "metadata": {
    "slideshow": {
     "slide_type": "notes"
    }
   },
   "source": [
    "Most of the songs have not been played or at lease we have no information of being played"
   ]
  },
  {
   "cell_type": "markdown",
   "metadata": {
    "slideshow": {
     "slide_type": "fragment"
    }
   },
   "source": [
    "```python\n",
    "\"lastPlayedDate\": 1419328173273\n",
    "```"
   ]
  },
  {
   "cell_type": "markdown",
   "metadata": {
    "slideshow": {
     "slide_type": "notes"
    }
   },
   "source": [
    "From those that have been played, most have not been played recently. music tastes change"
   ]
  },
  {
   "cell_type": "markdown",
   "metadata": {
    "slideshow": {
     "slide_type": "fragment"
    }
   },
   "source": [
    "```python\n",
    "\"artist\": \"U2\"\n",
    "```"
   ]
  },
  {
   "cell_type": "markdown",
   "metadata": {
    "slideshow": {
     "slide_type": "notes"
    }
   },
   "source": [
    "and of course the most popular artist was u2, cause...apple."
   ]
  },
  {
   "cell_type": "markdown",
   "metadata": {
    "slideshow": {
     "slide_type": "fragment"
    }
   },
   "source": [
    "```python\n",
    "def decay(timestamp):\n",
    "    return math.abs(timestamp - 1419327173273) / 60 / 60 / 24\n",
    "    \n",
    "artists = [\n",
    "     song['artist'], ))\n",
    "     for song in song_library\n",
    "     if song['artist'] != 'U2' and song['playCount'] * decay(song['lastPlayedDate'] > 10\n",
    "]\n",
    "```"
   ]
  },
  {
   "cell_type": "markdown",
   "metadata": {
    "slideshow": {
     "slide_type": "notes"
    }
   },
   "source": [
    "- Has relevance to people that love music, little relevance to others\n",
    "- An interest in its own right\n",
    "- Incomplete and often old"
   ]
  },
  {
   "cell_type": "markdown",
   "metadata": {
    "slideshow": {
     "slide_type": "slide"
    }
   },
   "source": [
    "## Likes"
   ]
  },
  {
   "cell_type": "markdown",
   "metadata": {
    "slideshow": {
     "slide_type": "notes"
    }
   },
   "source": [
    "- likes were coming from facebook\n",
    "- but could come from twitter as well\n",
    "- and later we also had like functionality in the app"
   ]
  },
  {
   "cell_type": "markdown",
   "metadata": {
    "slideshow": {
     "slide_type": "subslide"
    }
   },
   "source": [
    "```python\n",
    "{\n",
    "    \"data\": [\n",
    "        {\n",
    "            \"name\": \"Meat mission\",\n",
    "            \"id\": \"1006041752818054\",\n",
    "            \"created_time\": \"2016-04-24T16:30:31+0000\",\n",
    "            \"category\": \"Restaurant / Café\",\n",
    "            \"category_list\": [\"Burger restaurant\"],\n",
    "            \"likes\": 15\n",
    "        }\n",
    "    ]\n",
    "}\n",
    "```"
   ]
  },
  {
   "cell_type": "markdown",
   "metadata": {
    "slideshow": {
     "slide_type": "notes"
    }
   },
   "source": [
    "that was not very helpful"
   ]
  },
  {
   "cell_type": "markdown",
   "metadata": {
    "slideshow": {
     "slide_type": "subslide"
    }
   },
   "source": [
    "```python\n",
    "\"category\": \"Restaurant / Café\"\n",
    "```"
   ]
  },
  {
   "cell_type": "markdown",
   "metadata": {
    "slideshow": {
     "slide_type": "notes"
    }
   },
   "source": [
    "not very useful, too generic for our use case"
   ]
  },
  {
   "cell_type": "markdown",
   "metadata": {
    "slideshow": {
     "slide_type": "fragment"
    }
   },
   "source": [
    "```python\n",
    "\"category_list\": [\"Burger restaurant\"]\n",
    "```"
   ]
  },
  {
   "cell_type": "markdown",
   "metadata": {
    "slideshow": {
     "slide_type": "notes"
    }
   },
   "source": [
    "only 20% had category list and some of them are not very descriptive"
   ]
  },
  {
   "cell_type": "markdown",
   "metadata": {
    "slideshow": {
     "slide_type": "fragment"
    }
   },
   "source": [
    "```python\n",
    "\"likes\": 15,\n",
    "```"
   ]
  },
  {
   "cell_type": "markdown",
   "metadata": {
    "slideshow": {
     "slide_type": "subslide"
    }
   },
   "source": [
    "lets not forget that some of the pages you like are you friends pages"
   ]
  },
  {
   "cell_type": "markdown",
   "metadata": {
    "slideshow": {
     "slide_type": "subslide"
    }
   },
   "source": [
    "```python\n",
    "curated_categories = [\n",
    "    'Burger restaurant',\n",
    "    ...\n",
    "]\n",
    "\n",
    "def friend_page(page):\n",
    "    if page['likes'] < 5000:\n",
    "        return True\n",
    "    return False\n",
    "\n",
    "interests = [\n",
    "    category\n",
    "    for page in likes if not friends_page(page) \n",
    "    for category in page.get('category_list', []) if category in curated_categories\n",
    "]\n",
    "```"
   ]
  },
  {
   "cell_type": "markdown",
   "metadata": {
    "slideshow": {
     "slide_type": "notes"
    }
   },
   "source": [
    "like pages also have a a lot of text in their descriptions and posts "
   ]
  },
  {
   "cell_type": "markdown",
   "metadata": {
    "slideshow": {
     "slide_type": "slide"
    }
   },
   "source": [
    "## Posts"
   ]
  },
  {
   "cell_type": "markdown",
   "metadata": {
    "slideshow": {
     "slide_type": "notes"
    }
   },
   "source": [
    "- your status updates\n",
    "- your comments\n",
    "- the text in your likes\n",
    "- your tweets potentially"
   ]
  },
  {
   "cell_type": "markdown",
   "metadata": {
    "slideshow": {
     "slide_type": "subslide"
    }
   },
   "source": [
    "```python\n",
    "{\n",
    "    \"data\": [\n",
    "        {\n",
    "          \"message\": \"Top 10 women the Don (Trump) has slept with http://youtu.be/9GwEcsQefB\",\n",
    "          \"link\": \"http://youtu.be/9GwEcsQefB\",\n",
    "          \"created_time\": \"2014-11-26T15:21:59+0000\",\n",
    "          \"id\": \"10152206092817233_10152447432882233\"\n",
    "        }\n",
    "    ]\n",
    "}\n",
    "```"
   ]
  },
  {
   "cell_type": "markdown",
   "metadata": {
    "slideshow": {
     "slide_type": "subslide"
    }
   },
   "source": [
    "```python\n",
    "\"message\": \"Top 10 women the Don (Trump) has slept with http://youtu.be/9GwEcsQefB\"\n",
    "```"
   ]
  },
  {
   "cell_type": "markdown",
   "metadata": {
    "slideshow": {
     "slide_type": "notes"
    }
   },
   "source": [
    "- Posts vary widely across users: some emotionally driven posts, some random clips, music, auto-generated\n",
    "- Limited text: limited insight\n",
    "- A message can be ubiquitous. It can also have negative sentiment.\n",
    "- We do not know if this person is a supporter of Trump or democrats."
   ]
  },
  {
   "cell_type": "markdown",
   "metadata": {
    "slideshow": {
     "slide_type": "fragment"
    }
   },
   "source": [
    "```python\n",
    "\"link\": \"http://youtu.be/9GwEcsQefB\"\n",
    "```"
   ]
  },
  {
   "cell_type": "markdown",
   "metadata": {
    "slideshow": {
     "slide_type": "notes"
    }
   },
   "source": [
    "- A link does not always contain text. Identifying the content of the link is a separate interesting topic by itself.\n",
    "\n",
    "Other Practical considerations\n",
    "- You are not the only one posting in your wall\n",
    "- Some posts are private, others shared with selected friends"
   ]
  },
  {
   "cell_type": "markdown",
   "metadata": {
    "slideshow": {
     "slide_type": "subslide"
    }
   },
   "source": [
    "```python\n",
    "def topics(link):\n",
    "    ## wrapper on top of\n",
    "    #  - prismatic api\n",
    "    #  - alchemy api\n",
    "    #  - or our local keyword extractor \n",
    "    return topics\n",
    "\n",
    "interests = [topic for post in posts if 'link' in post for topic in topics(link)]\n",
    "```"
   ]
  },
  {
   "cell_type": "markdown",
   "metadata": {
    "slideshow": {
     "slide_type": "notes"
    }
   },
   "source": [
    "- reality check.\n",
    "- separating if the post is about a song or news or something else is an interesting topic by itself."
   ]
  },
  {
   "cell_type": "markdown",
   "metadata": {
    "slideshow": {
     "slide_type": "subslide"
    }
   },
   "source": [
    "## Enrichment"
   ]
  },
  {
   "cell_type": "markdown",
   "metadata": {
    "slideshow": {
     "slide_type": "fragment"
    }
   },
   "source": [
    "* Foursquare"
   ]
  },
  {
   "cell_type": "markdown",
   "metadata": {
    "collapsed": false,
    "slideshow": {
     "slide_type": "fragment"
    }
   },
   "source": [
    "* Google Maps"
   ]
  },
  {
   "cell_type": "markdown",
   "metadata": {
    "slideshow": {
     "slide_type": "fragment"
    }
   },
   "source": [
    "* iTunes"
   ]
  },
  {
   "cell_type": "markdown",
   "metadata": {
    "slideshow": {
     "slide_type": "notes"
    }
   },
   "source": [
    "- Location filtering - not related to interests\n",
    "- Enrich data with the type of places you visit: Coffee shops, Art galleries, Rock climbing centers...\n",
    "- Used both Maps and Here, but Foursquare won\n",
    "\n",
    "- Itunes api: extraction of artist and genre as opposed to the song itself\n",
    "    \n",
    "- IMDB: Genre and Movies"
   ]
  },
  {
   "cell_type": "markdown",
   "metadata": {
    "slideshow": {
     "slide_type": "subslide"
    }
   },
   "source": [
    "## API's are your friends"
   ]
  },
  {
   "cell_type": "markdown",
   "metadata": {
    "slideshow": {
     "slide_type": "fragment"
    }
   },
   "source": [
    "<div class=\"container\">\n",
    "<div class=\"row\">\n",
    "    <img src=\"assets/cats_hugging.jpg\"/>\n",
    "</div>\n",
    "</div>"
   ]
  },
  {
   "cell_type": "markdown",
   "metadata": {
    "slideshow": {
     "slide_type": "subslide"
    }
   },
   "source": [
    "## Mo Money Mo Catnip"
   ]
  },
  {
   "cell_type": "markdown",
   "metadata": {
    "slideshow": {
     "slide_type": "fragment"
    }
   },
   "source": [
    "<div class=\"container\">\n",
    "<div class=\"row\">\n",
    "    <img src=\"assets/cat_with_money.jpg\", width=80%/>\n",
    "</div>\n",
    "</div>"
   ]
  },
  {
   "cell_type": "markdown",
   "metadata": {
    "collapsed": true,
    "slideshow": {
     "slide_type": "slide"
    }
   },
   "source": [
    "# Making recommendations without data is impossible"
   ]
  },
  {
   "cell_type": "markdown",
   "metadata": {
    "slideshow": {
     "slide_type": "fragment"
    }
   },
   "source": [
    "# Or is it?"
   ]
  },
  {
   "cell_type": "markdown",
   "metadata": {
    "slideshow": {
     "slide_type": "subslide"
    }
   },
   "source": [
    "## User"
   ]
  },
  {
   "cell_type": "markdown",
   "metadata": {
    "slideshow": {
     "slide_type": "fragment"
    }
   },
   "source": [
    "```json\n",
    "{\n",
    "    'name': ,\n",
    "    'age': ,\n",
    "    'gender': ,\n",
    "    'places': ,\n",
    "    'artists': ,\n",
    "    'interests':     \n",
    "}\n",
    "```"
   ]
  },
  {
   "cell_type": "markdown",
   "metadata": {
    "slideshow": {
     "slide_type": "subslide"
    }
   },
   "source": [
    "## Tribe"
   ]
  },
  {
   "cell_type": "markdown",
   "metadata": {
    "slideshow": {
     "slide_type": "notes"
    }
   },
   "source": [
    "- show crafty cats json\n",
    "- tribe name, tags, location based...., gender,"
   ]
  },
  {
   "cell_type": "markdown",
   "metadata": {
    "slideshow": {
     "slide_type": "fragment"
    }
   },
   "source": [
    "```json\n",
    "{\n",
    "    'name': 'Crafty Cats',\n",
    "    'ageRange.min': 25,\n",
    "    'ageRange.max': 32,\n",
    "    'genders': ['alien'],\n",
    "    'interests': ['paper', 'craft', 'drawing', 'art', 'design', 'diy', ....],\n",
    "    'location.ll': '',\n",
    "    'location.radius': ''\n",
    "}\n",
    "```"
   ]
  },
  {
   "cell_type": "markdown",
   "metadata": {
    "slideshow": {
     "slide_type": "slide"
    }
   },
   "source": [
    "## Similarity Search"
   ]
  },
  {
   "cell_type": "markdown",
   "metadata": {
    "slideshow": {
     "slide_type": "fragment"
    }
   },
   "source": [
    "- Analysing\n",
    "- Matching\n",
    "- Scoring"
   ]
  },
  {
   "cell_type": "markdown",
   "metadata": {
    "slideshow": {
     "slide_type": "notes"
    }
   },
   "source": [
    "- State why use ES: powerful, scalability\n",
    "- Recommendations became retrieval: finding most recommended\n",
    "- MLT: issues behind this: if document is empty, tweek of MLT. Personalisation, need to improve MLT"
   ]
  },
  {
   "cell_type": "markdown",
   "metadata": {
    "slideshow": {
     "slide_type": "subslide"
    }
   },
   "source": [
    "## Analysing"
   ]
  },
  {
   "cell_type": "code",
   "execution_count": null,
   "metadata": {
    "collapsed": true,
    "slideshow": {
     "slide_type": "notes"
    }
   },
   "outputs": [],
   "source": [
    "- tweek settings - synoymns, stemmers, "
   ]
  },
  {
   "cell_type": "markdown",
   "metadata": {
    "slideshow": {
     "slide_type": "fragment"
    }
   },
   "source": [
    "```json\n",
    "{\n",
    "    \"settings\": {\n",
    "        \"analysis\": {\n",
    "            \"filter\": {\n",
    "                \"my_english_stopwords\":{\n",
    "                    \"type\": \"stop\",\n",
    "                    \"stopwords\": \"_english_\"\n",
    "                },\n",
    "                \"name_synonym_filter\" : {\n",
    "                    \"type\" : \"synonym\",\n",
    "                    \"synonyms\" : [\"kung foodies => kung foodies,food\", ....]\n",
    "                },\n",
    "                \"minimal_english_stemmer\" : {\n",
    "                    \"type\" : \"stemmer\",\n",
    "                    \"name\" : \"minimal_english\"\n",
    "                }\n",
    "          },\n",
    "            \"analyzer\": {\n",
    "                \"my_lowercase_keyword\":{\n",
    "                    \"type\": \"custom\",\n",
    "                    \"tokenizer\": \"keyword\",\n",
    "                    \"filter\": [\"standard\", \"lowercase\", ....]\n",
    "                }, .....\n",
    "            }\n",
    "        }\n",
    "    }, ....\n",
    "    \n",
    "```"
   ]
  },
  {
   "cell_type": "markdown",
   "metadata": {
    "slideshow": {
     "slide_type": "slide"
    }
   },
   "source": [
    "## Matching"
   ]
  },
  {
   "cell_type": "markdown",
   "metadata": {
    "slideshow": {
     "slide_type": "fragment"
    }
   },
   "source": [
    "```python\n",
    "def interests_query(interests):\n",
    "    hashable_interests = [json.dumps(interest) for interest in interests]\n",
    "    weigted_vector = Counter(hashable_interests)\n",
    "    keys = [key for (key, _) in weigted_vector.most_common(1000)]\n",
    "    i_query = {\n",
    "        \"bool\": {\n",
    "            \"should\": [\n",
    "                {\n",
    "                    \"constant_score\": {\n",
    "                        \"boost\": weigted_vector[k],\n",
    "                        \"query\": {\n",
    "                            \"match\": json.loads(k)\n",
    "                        } \n",
    "                    } \n",
    "                } for k in keys \n",
    "            ]\n",
    "        }\n",
    "    }\n",
    "    return i_query\n",
    "```"
   ]
  },
  {
   "cell_type": "markdown",
   "metadata": {
    "slideshow": {
     "slide_type": "slide"
    }
   },
   "source": [
    "## Scoring"
   ]
  },
  {
   "cell_type": "markdown",
   "metadata": {
    "slideshow": {
     "slide_type": "fragment"
    }
   },
   "source": [
    "- Age\n",
    "- Gender\n",
    "- Location"
   ]
  },
  {
   "cell_type": "markdown",
   "metadata": {
    "slideshow": {
     "slide_type": "notes"
    }
   },
   "source": [
    "- Inbuilt use of elasticsearch\n",
    "- however if you query with no data, you get back everything\n",
    "- tweeking scoring abilities to filter depending on level of data person has"
   ]
  },
  {
   "cell_type": "markdown",
   "metadata": {
    "slideshow": {
     "slide_type": "subslide"
    }
   },
   "source": [
    "## Age"
   ]
  },
  {
   "cell_type": "markdown",
   "metadata": {
    "slideshow": {
     "slide_type": "notes"
    }
   },
   "source": [
    "- If a tribe was meant to be for a peticular gender or target age group\n",
    "- Controversial"
   ]
  },
  {
   "cell_type": "markdown",
   "metadata": {
    "slideshow": {
     "slide_type": "fragment"
    }
   },
   "source": [
    "```python\n",
    "def age_scoring(age):\n",
    "    if not age:\n",
    "        return None\n",
    "    score = {\n",
    "        \"script_score\": {\n",
    "            \"params\": {\n",
    "                \"age\": age,\n",
    "            },\n",
    "            \"script\": \"\\\n",
    "                min_age = doc['ageRange.min'];\\\n",
    "                max_age = doc['ageRange.max'];\\\n",
    "                \\\n",
    "                if (min_age < age && age < max_age) {\\\n",
    "                    score = 1\\\n",
    "                } else {\\\n",
    "                    years_out_of_range = min_age - age ? age < min_age : age - max_age;\\\n",
    "                    if (years_out_of_range < 3) {\\\n",
    "                        score = (3 - years_out_of_range) / 3\\\n",
    "                    } else {\\\n",
    "                        score = 0\\\n",
    "                    };\\\n",
    "                };\\\n",
    "                score\"\n",
    "        }\n",
    "    }\n",
    "    return score\n",
    "```"
   ]
  },
  {
   "cell_type": "markdown",
   "metadata": {
    "slideshow": {
     "slide_type": "subslide"
    }
   },
   "source": [
    "## Gender"
   ]
  },
  {
   "cell_type": "markdown",
   "metadata": {
    "slideshow": {
     "slide_type": "fragment"
    }
   },
   "source": [
    "```python\n",
    "def gender_scoring(gender):\n",
    "    if not gender:\n",
    "        return None\n",
    "    # TODO: make sure that tribes with no genders are not filtered out\n",
    "    score =  {\n",
    "        \"script_score\": {\n",
    "            \"params\": {\n",
    "                \"gender\": gender\n",
    "            },\n",
    "            \"script\": \"\\\n",
    "                if (gender in doc['genders'].value) {\\\n",
    "                    score = 1\\\n",
    "                } else {\\\n",
    "                    score = 0\\\n",
    "                };\\\n",
    "                score\"\n",
    "        }\n",
    "    }\n",
    "    return score\n",
    "```"
   ]
  },
  {
   "cell_type": "markdown",
   "metadata": {
    "slideshow": {
     "slide_type": "subslide"
    }
   },
   "source": [
    "## Location"
   ]
  },
  {
   "cell_type": "markdown",
   "metadata": {
    "slideshow": {
     "slide_type": "notes"
    }
   },
   "source": [
    "location centric filtering. Distance reduces score"
   ]
  },
  {
   "cell_type": "markdown",
   "metadata": {
    "slideshow": {
     "slide_type": "fragment"
    }
   },
   "source": [
    "```python\n",
    "def location_scoring(coordinates):\n",
    "    if not coordinates:\n",
    "        return None\n",
    "    score = {\n",
    "        \"script_score\": {\n",
    "            \"params\": {\n",
    "                \"lat\": coordinates['lat'],\n",
    "                \"lon\": coordinates['lon']\n",
    "            },\n",
    "            \"script\": \"\\\n",
    "                radius = doc['location.radius'];\\\n",
    "                distance = doc['location.ll'].arcDistance(location);\\\n",
    "                \\\n",
    "                decay = (2 * radius - distance) / radius;\\\n",
    "                boosting = 200 / radius;\\\n",
    "                \\\n",
    "                if (distance < radius) {\\\n",
    "                    score = _score + boosting\\\n",
    "                } else if (distance < 2 * radius) {\\\n",
    "                    score = _score * decay + boosting\\\n",
    "                } else {\\\n",
    "                    score = 0\\\n",
    "                };\\\n",
    "                score\"\n",
    "        }\n",
    "    }\n",
    "    return score\n",
    "```"
   ]
  },
  {
   "cell_type": "markdown",
   "metadata": {
    "slideshow": {
     "slide_type": "slide"
    }
   },
   "source": [
    "## Engineering"
   ]
  },
  {
   "cell_type": "markdown",
   "metadata": {
    "slideshow": {
     "slide_type": "fragment"
    }
   },
   "source": [
    "- Microservice\n",
    "- Deployment and improving\n",
    "- Error handling\n",
    "- Scalability"
   ]
  },
  {
   "cell_type": "markdown",
   "metadata": {
    "slideshow": {
     "slide_type": "subslide"
    }
   },
   "source": [
    "## Microservice"
   ]
  },
  {
   "cell_type": "markdown",
   "metadata": {
    "slideshow": {
     "slide_type": "notes"
    }
   },
   "source": [
    "- Iterate quickly\n",
    "- Microservice\n",
    "- Built our own API\n",
    "- Scala and Python\n",
    "- Tech agnostic"
   ]
  },
  {
   "cell_type": "markdown",
   "metadata": {
    "slideshow": {
     "slide_type": "fragment"
    }
   },
   "source": [
    "### GET /tribes?match_user_id=123\n",
    "\n",
    "```\n",
    "{\n",
    "   \"data\": [\n",
    "      {\n",
    "          \"id\": 1000000000000018,\n",
    "          \"score\": 0.89\n",
    "      },...\n",
    "   ]\n",
    "}\n",
    "```"
   ]
  },
  {
   "cell_type": "markdown",
   "metadata": {
    "slideshow": {
     "slide_type": "subslide"
    }
   },
   "source": [
    "## Deployment and Improving"
   ]
  },
  {
   "cell_type": "markdown",
   "metadata": {
    "slideshow": {
     "slide_type": "fragment"
    }
   },
   "source": [
    "- CircleCI"
   ]
  },
  {
   "cell_type": "markdown",
   "metadata": {
    "slideshow": {
     "slide_type": "fragment"
    }
   },
   "source": [
    "- AWS Elasticbeanstalk & S3"
   ]
  },
  {
   "cell_type": "markdown",
   "metadata": {
    "slideshow": {
     "slide_type": "fragment"
    }
   },
   "source": [
    "- Feedback"
   ]
  },
  {
   "cell_type": "markdown",
   "metadata": {
    "slideshow": {
     "slide_type": "subslide"
    }
   },
   "source": [
    "<div class=\"container\">\n",
    "<div class=\"row\">\n",
    "    <img src=\"assets/feedback_loop.png\" alt=\"Drawing\" style=\"width: 80%;\"/>\n",
    "</div>\n",
    "</div>"
   ]
  },
  {
   "cell_type": "markdown",
   "metadata": {
    "slideshow": {
     "slide_type": "notes"
    }
   },
   "source": [
    "- Workers handling request\n",
    "- Distinguish betweetn instant recommendations and batch\n",
    "- elasticsearch: reading\n",
    "- writing data: workers needed"
   ]
  },
  {
   "cell_type": "markdown",
   "metadata": {
    "slideshow": {
     "slide_type": "subslide"
    }
   },
   "source": [
    "## Error Handling"
   ]
  },
  {
   "cell_type": "markdown",
   "metadata": {
    "slideshow": {
     "slide_type": "fragment"
    }
   },
   "source": [
    "<div class=\"container\">\n",
    "<div class=\"row\">\n",
    "    <img src=\"assets/opbeat.png\" alt=\"Drawing\" style=\"width: 500px;\"/>\n",
    "</div>\n",
    "</div>"
   ]
  },
  {
   "cell_type": "markdown",
   "metadata": {
    "slideshow": {
     "slide_type": "subslide"
    }
   },
   "source": [
    "## Scalability"
   ]
  },
  {
   "cell_type": "markdown",
   "metadata": {
    "collapsed": true,
    "slideshow": {
     "slide_type": "notes"
    }
   },
   "source": [
    "- continuous integration and deployment\n",
    "- fix errors quickly\n",
    "- no waiting around\n",
    "- git push -f : protecting branches"
   ]
  },
  {
   "cell_type": "markdown",
   "metadata": {
    "slideshow": {
     "slide_type": "slide"
    }
   },
   "source": [
    "# Lessons Learned\n",
    "\n",
    "- Sandbox your research time\n",
    "- Start off with as much data and enrichment as you can get - reduce down\n",
    "- Think about real time vrs batch\n",
    "- Don't make assumptions - prove with actual user feedback"
   ]
  },
  {
   "cell_type": "markdown",
   "metadata": {
    "slideshow": {
     "slide_type": "slide"
    }
   },
   "source": [
    "<div class=\"container\">\n",
    "<div class=\"row\">\n",
    " <div class=\"col-md-6 center\">\n",
    "    <img src=\"assets/ruby.png\" alt=\"Drawing\" style=\"width: 40%;\"/>\n",
    "    <p>@RubyChilds</p>\n",
    "    <p>ruby.childs1@gmail.com</p>\n",
    " </div>\n",
    "  <div class=\"col-md-6 center\">\n",
    "    <img src=\"assets/nick.png\" alt=\"Drawing\" style=\"width: 40%;\"/> \n",
    "     <p>@NSorros</p>\n",
    "      <p>nsorros@gmail.com</p>\n",
    "  </div>\n",
    "</div>\n",
    "</div>"
   ]
  },
  {
   "cell_type": "markdown",
   "metadata": {
    "collapsed": true,
    "slideshow": {
     "slide_type": "slide"
    }
   },
   "source": [
    "# Q&A"
   ]
  }
 ],
 "metadata": {
  "celltoolbar": "Slideshow",
  "kernelspec": {
   "display_name": "Python 3",
   "language": "python",
   "name": "python3"
  },
  "language_info": {
   "codemirror_mode": {
    "name": "ipython",
    "version": 3
   },
   "file_extension": ".py",
   "mimetype": "text/x-python",
   "name": "python",
   "nbconvert_exporter": "python",
   "pygments_lexer": "ipython3",
   "version": "3.5.1"
  }
 },
 "nbformat": 4,
 "nbformat_minor": 0
}
